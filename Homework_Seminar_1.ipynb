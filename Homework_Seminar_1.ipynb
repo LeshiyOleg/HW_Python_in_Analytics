{
 "cells": [
  {
   "cell_type": "markdown",
   "id": "ef53ec49",
   "metadata": {},
   "source": [
    "# Домашнее задание №1 (Семинар_1)"
   ]
  },
  {
   "cell_type": "markdown",
   "id": "816a77fc",
   "metadata": {},
   "source": [
    "## Задание 1."
   ]
  },
  {
   "cell_type": "markdown",
   "id": "5bd267ea",
   "metadata": {},
   "source": [
    "### 1.1 Соедините два словаря в один"
   ]
  },
  {
   "cell_type": "code",
   "execution_count": 5,
   "id": "4194a848",
   "metadata": {},
   "outputs": [],
   "source": [
    "dict1 = {'One': 1, 'Two': 2, 'Three': 3}\n",
    "dict2 = {'Four': 4, 'Five': 5, 'Six': 6}"
   ]
  },
  {
   "cell_type": "code",
   "execution_count": 6,
   "id": "1a66241e",
   "metadata": {},
   "outputs": [],
   "source": [
    "dict1.update(dict2)"
   ]
  },
  {
   "cell_type": "code",
   "execution_count": 7,
   "id": "611287ba",
   "metadata": {},
   "outputs": [
    {
     "data": {
      "text/plain": [
       "{'One': 1, 'Two': 2, 'Three': 3, 'Four': 4, 'Five': 5, 'Six': 6}"
      ]
     },
     "execution_count": 7,
     "metadata": {},
     "output_type": "execute_result"
    }
   ],
   "source": [
    "dict1"
   ]
  },
  {
   "cell_type": "markdown",
   "id": "9f577f20",
   "metadata": {},
   "source": [
    "### 1.2 Напишите функцию, которая на вход принимает два словаря и возвращает один объединенный словарь\n",
    "Используйте аннотирование типов"
   ]
  },
  {
   "cell_type": "code",
   "execution_count": 10,
   "id": "d0822c75",
   "metadata": {},
   "outputs": [],
   "source": [
    "def dict_update (dict1, dict2):\n",
    "    dict1.update(dict2)\n",
    "    return dict1"
   ]
  },
  {
   "cell_type": "code",
   "execution_count": 11,
   "id": "78762786",
   "metadata": {},
   "outputs": [
    {
     "data": {
      "text/plain": [
       "{'One': 1, 'Two': 2, 'Three': 3, 'Four': 4, 'Five': 5, 'Six': 6}"
      ]
     },
     "execution_count": 11,
     "metadata": {},
     "output_type": "execute_result"
    }
   ],
   "source": [
    "dict1 = {'One': 1, 'Two': 2, 'Three': 3}\n",
    "dict2 = {'Four': 4, 'Five': 5, 'Six': 6}\n",
    "\n",
    "dict_update (dict1, dict2)"
   ]
  },
  {
   "cell_type": "markdown",
   "id": "bffcfb03",
   "metadata": {},
   "source": [
    "## Задание 2."
   ]
  },
  {
   "cell_type": "markdown",
   "id": "a61bad95",
   "metadata": {},
   "source": [
    "Напишите функцию, которая из двух списков, делает один словарь, где элементы из первого списка - ключи, а элементы из второго списка - значения\n",
    "```\n",
    "keys = ['One', 'Two', 'Three']\n",
    "values = [1, 2, 3]\n",
    "```\n",
    "Используйте аннотирование типов"
   ]
  },
  {
   "cell_type": "code",
   "execution_count": 13,
   "id": "9250b1f5",
   "metadata": {},
   "outputs": [],
   "source": [
    "keys = ['One', 'Two', 'Three']\n",
    "values = [1, 2, 3]"
   ]
  },
  {
   "cell_type": "markdown",
   "id": "697239f1",
   "metadata": {},
   "source": [
    "### 2.1 Используя цикл for"
   ]
  },
  {
   "cell_type": "code",
   "execution_count": 15,
   "id": "b69b662c",
   "metadata": {},
   "outputs": [
    {
     "data": {
      "text/plain": [
       "{'One': 1, 'Two': 2, 'Three': 3}"
      ]
     },
     "execution_count": 15,
     "metadata": {},
     "output_type": "execute_result"
    }
   ],
   "source": [
    "def get_dict (keys, values):\n",
    "    res_dict = {}\n",
    "    for i in range(len(keys)):\n",
    "        res_dict.update(\n",
    "        {\n",
    "            keys[i]: values[i]\n",
    "        }\n",
    "        )\n",
    "    return res_dict\n",
    "\n",
    "get_dict(keys, values)"
   ]
  },
  {
   "cell_type": "markdown",
   "id": "33ea0a12",
   "metadata": {},
   "source": [
    "### 2.2 Используя dict comprehensions"
   ]
  },
  {
   "cell_type": "code",
   "execution_count": 17,
   "id": "49e53f3b",
   "metadata": {},
   "outputs": [
    {
     "data": {
      "text/plain": [
       "{'One': 1, 'Two': 2, 'Three': 3}"
      ]
     },
     "execution_count": 17,
     "metadata": {},
     "output_type": "execute_result"
    }
   ],
   "source": [
    "new_dict_compreh = {keys[i]: values[i] for i in range(len(keys))}\n",
    "new_dict_compreh"
   ]
  },
  {
   "cell_type": "code",
   "execution_count": 18,
   "id": "dec02106",
   "metadata": {},
   "outputs": [
    {
     "data": {
      "text/plain": [
       "{'One': 1, 'Two': 2, 'Three': 3}"
      ]
     },
     "execution_count": 18,
     "metadata": {},
     "output_type": "execute_result"
    }
   ],
   "source": [
    "def get_dict (keys, values):\n",
    "    return {keys[i]: values[i] for i in range(len(keys))}\n",
    "\n",
    "get_dict(keys, values)"
   ]
  },
  {
   "cell_type": "markdown",
   "id": "cead719c",
   "metadata": {},
   "source": [
    "## Задание 3."
   ]
  },
  {
   "cell_type": "markdown",
   "id": "73d768dc",
   "metadata": {},
   "source": [
    "Извлеките только два ключа name и age из представленного словаря\n",
    "```\n",
    "client_dict = {\n",
    "    \"name\": \"John\",\n",
    "    \"age\": 25,\n",
    "    \"salary\": 5000,\n",
    "    \"city\": \"Moscow\"\n",
    "}\n",
    "```"
   ]
  },
  {
   "cell_type": "markdown",
   "id": "ca94e0ed",
   "metadata": {},
   "source": [
    "#### 3.1 Напишите функцию с циклом for\n",
    "Функция на вход принимает:\n",
    "исходный словарь\n",
    "ключи, которые нужно извлечь (аргумент по умолчанию)\n",
    "На выходе словарь с нужными ключами\n",
    "Используйте аннотирование типов\n"
   ]
  },
  {
   "cell_type": "code",
   "execution_count": 21,
   "id": "66fc6385",
   "metadata": {},
   "outputs": [],
   "source": [
    "client_dict = {\n",
    "    \"name\": \"John\",\n",
    "    \"age\": 25,\n",
    "    \"salary\": 5000,\n",
    "    \"city\": \"Moscow\"\n",
    "}"
   ]
  },
  {
   "cell_type": "code",
   "execution_count": 23,
   "id": "3f1d9e70",
   "metadata": {},
   "outputs": [
    {
     "data": {
      "text/plain": [
       "{'name': 'John', 'age': 25}"
      ]
     },
     "execution_count": 23,
     "metadata": {},
     "output_type": "execute_result"
    }
   ],
   "source": [
    "def get_keys_from_dict (base_dict, keys: list=[\"name\", \"age\"]):\n",
    "    res = {}\n",
    "    for k in keys:\n",
    "        res.update({\n",
    "            k: base_dict[k]\n",
    "        }\n",
    "        )\n",
    "    return res\n",
    "\n",
    "get_keys_from_dict (client_dict)"
   ]
  },
  {
   "cell_type": "markdown",
   "id": "5ea36b7b",
   "metadata": {},
   "source": [
    "### 3.2 Используя dict comprehensions"
   ]
  },
  {
   "cell_type": "code",
   "execution_count": 26,
   "id": "a9bd8e3b",
   "metadata": {},
   "outputs": [
    {
     "data": {
      "text/plain": [
       "{'name': 'John', 'age': 25}"
      ]
     },
     "execution_count": 26,
     "metadata": {},
     "output_type": "execute_result"
    }
   ],
   "source": [
    "def get_keys_from_dict (base_dict, keys: list=[\"name\", \"age\"]):\n",
    "    return {k: base_dict[k] for k in keys}\n",
    "\n",
    "get_keys_from_dict (client_dict)"
   ]
  },
  {
   "cell_type": "markdown",
   "id": "31955150",
   "metadata": {},
   "source": [
    "## Задание 5."
   ]
  },
  {
   "cell_type": "markdown",
   "id": "ef2b5e4f",
   "metadata": {},
   "source": [
    "### 5.1 Найдите картинку в интернете и прикрепите её в ячейку с текстом\n"
   ]
  },
  {
   "cell_type": "markdown",
   "id": "44adfb61",
   "metadata": {},
   "source": [
    "<img src = \"https://crosti.ru/patterns/00/01/29/70_picture_d5e6f2fe.jpg\">"
   ]
  },
  {
   "cell_type": "markdown",
   "id": "3777be25",
   "metadata": {},
   "source": [
    "### 5.2 Создайте следующую таблицу в ячейке с текстом\n"
   ]
  },
  {
   "cell_type": "markdown",
   "id": "5b71840b",
   "metadata": {},
   "source": [
    "<table>\n",
    "    <tr>\n",
    "        <td>  </td>\n",
    "        <td> до события </td>\n",
    "        <td> во время события </td>\n",
    "    </tr>\n",
    "    <tr>\n",
    "        <td> 1 контрольная точка </td>\n",
    "        <td> 250 </td>\n",
    "        <td> 500 </td>\n",
    "    </tr>\n",
    "    <tr>\n",
    "        <td> 2 контрольная точка </td>\n",
    "        <td> 350 </td>\n",
    "        <td> 700 </td>\n",
    "    </tr>\n",
    "    <tr>\n",
    "        <td> 3 контрольная точка </td>\n",
    "        <td> 400 </td>\n",
    "        <td> 800 </td>\n",
    "    </tr>\n",
    "    <tr>\n",
    "        <td>  </td>\n",
    "        <td>  </td>\n",
    "        <td>  </td>\n",
    "    </tr>\n",
    "    <tr>\n",
    "        <td> Итого за победу </td>\n",
    "        <td> 1000 </td>\n",
    "        <td> 2000 </td>\n",
    "    </tr>\n",
    "</table>"
   ]
  },
  {
   "cell_type": "markdown",
   "id": "ae8ba5eb",
   "metadata": {},
   "source": [
    "## Задание 6."
   ]
  },
  {
   "cell_type": "markdown",
   "id": "12a32199",
   "metadata": {},
   "source": [
    "Напишите функцию, которая может принимать любое количество трат пользователя и считать сумму и среднее.\n"
   ]
  },
  {
   "cell_type": "markdown",
   "id": "34259e99",
   "metadata": {},
   "source": [
    "### На вход поступают целочисленные значения в любом количестве\n"
   ]
  },
  {
   "cell_type": "code",
   "execution_count": 29,
   "id": "253191cf",
   "metadata": {},
   "outputs": [],
   "source": [
    "def calc_purch(*args):\n",
    "    sum_purch = sum(args)\n",
    "    n_purch = len(args)\n",
    "    return {\n",
    "        'sum': sum_purch,\n",
    "        'mean': sum_purch/n_purch\n",
    "    }"
   ]
  },
  {
   "cell_type": "code",
   "execution_count": 31,
   "id": "f6e74aeb",
   "metadata": {},
   "outputs": [
    {
     "data": {
      "text/plain": [
       "{'sum': 10, 'mean': 2.5}"
      ]
     },
     "execution_count": 31,
     "metadata": {},
     "output_type": "execute_result"
    }
   ],
   "source": [
    "calc_purch(1,2,3,4)"
   ]
  },
  {
   "cell_type": "markdown",
   "id": "f1732f9b",
   "metadata": {},
   "source": [
    "## Задание 4."
   ]
  },
  {
   "cell_type": "markdown",
   "id": "303aa7ba",
   "metadata": {},
   "source": [
    "### 4.1 Сгенерируйте случайные целые числа от 0 до 100 в количестве 5 штук с помощью модуля random\n"
   ]
  },
  {
   "cell_type": "markdown",
   "id": "d38dfd4f",
   "metadata": {},
   "source": [
    "- Зафиксируйте псевдогенерацию, чтобы сгенерированные значения всегда были одинаковые\n",
    "- Используйте list comprehensions\n"
   ]
  },
  {
   "cell_type": "code",
   "execution_count": 37,
   "id": "433964ba",
   "metadata": {},
   "outputs": [
    {
     "data": {
      "text/plain": [
       "[29, 47, 48, 16, 24]"
      ]
     },
     "execution_count": 37,
     "metadata": {},
     "output_type": "execute_result"
    }
   ],
   "source": [
    "import random\n",
    "random.seed(8)\n",
    "\n",
    "data = [random.randint(0,100) for i in range(5)]\n",
    "data"
   ]
  },
  {
   "cell_type": "markdown",
   "id": "0b23c644",
   "metadata": {},
   "source": [
    "### 4.2 Напишите генератор\n"
   ]
  },
  {
   "cell_type": "markdown",
   "id": "943e0e12",
   "metadata": {},
   "source": [
    "- Генератор на вход принимает список с данными о клиенте (данные из пункта 4.1)\n",
    "- Внутри генератора реализуйте обход по списку с данными\n",
    "На каждой итерации генератор будет возвращать кортеж из двух элементов:\n",
    "1. данные по клиенту (в зависимости от итерации, на 0 итерации вернется 0 элемент, на 1 итерации вернется 1 элемент и тд)\n",
    "2. целочисленное значение, которое показывает, сколько секунд прошло с предыдущей итерации\n",
    "Примечание: секунды, которые возвращаются должны показывать время не с начала запуска генератора, а именно то время, которое прошло с предыдущей итерации. А значит время на первой итерации должно равняться 0.\n",
    "*- Используйте функцию time из модуля time для подсчета времени.*\n",
    "\n",
    "*- Чтобы проверить работу таймера, запустите проход по генератору в цикле с time.sleep(2)*\n"
   ]
  },
  {
   "cell_type": "code",
   "execution_count": 41,
   "id": "02ecadb2",
   "metadata": {},
   "outputs": [],
   "source": [
    "import time\n",
    "\n",
    "def elaps_since(data):\n",
    "    last_time = None\n",
    "    for i in data:\n",
    "        current_time = time.time()\n",
    "        if last_time:\n",
    "            delta = current_time - last_time\n",
    "        else:\n",
    "            delta = current_time - current_time\n",
    "        \n",
    "        last_time = time.time()\n",
    "        yield (int(delta), i)"
   ]
  },
  {
   "cell_type": "code",
   "execution_count": 42,
   "id": "091267d6",
   "metadata": {},
   "outputs": [
    {
     "name": "stdout",
     "output_type": "stream",
     "text": [
      "(0, 29)\n",
      "(2, 47)\n",
      "(2, 48)\n",
      "(2, 16)\n",
      "(2, 24)\n"
     ]
    }
   ],
   "source": [
    "for t in elaps_since(data):\n",
    "    print(t)\n",
    "    time.sleep(2)"
   ]
  },
  {
   "cell_type": "code",
   "execution_count": null,
   "id": "d8fa95dd",
   "metadata": {},
   "outputs": [],
   "source": []
  }
 ],
 "metadata": {
  "kernelspec": {
   "display_name": "Python 3 (ipykernel)",
   "language": "python",
   "name": "python3"
  },
  "language_info": {
   "codemirror_mode": {
    "name": "ipython",
    "version": 3
   },
   "file_extension": ".py",
   "mimetype": "text/x-python",
   "name": "python",
   "nbconvert_exporter": "python",
   "pygments_lexer": "ipython3",
   "version": "3.9.12"
  }
 },
 "nbformat": 4,
 "nbformat_minor": 5
}
