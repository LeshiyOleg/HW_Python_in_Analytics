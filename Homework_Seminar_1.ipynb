{
 "cells": [
  {
   "cell_type": "markdown",
   "id": "ef53ec49",
   "metadata": {},
   "source": [
    "# Домашнее задание №1 (Семинар_1)"
   ]
  },
  {
   "cell_type": "markdown",
   "id": "2063f941",
   "metadata": {},
   "source": [
    "## Задание 1. \n",
    "Оформляйте ноутбук, используя эти советы:\n",
    "\n",
    "Номер задачи - заголовок 2\n",
    "\n",
    "Номер подзадачи - заголовок 3\n",
    "\n",
    "Предоставленные наборы данных оформляйте, как код\n",
    "\n",
    "Рекомендации для преподавателей по оценке задания:\n",
    "\n",
    "Смотреть, чтобы студент красиво оформлял ноутбук, использовал ячейки с текстом, указывал номера заданий"
   ]
  },
  {
   "cell_type": "markdown",
   "id": "816a77fc",
   "metadata": {},
   "source": [
    "## Задание 2."
   ]
  },
  {
   "cell_type": "markdown",
   "id": "5bd267ea",
   "metadata": {},
   "source": [
    "На складе лежат разные фрукты в разном количестве.\n",
    "Нужно написать функцию, которая на вход принимает любое количество названий фруктов и их количество, а возвращает общее количество фруктов на складе"
   ]
  },
  {
   "cell_type": "code",
   "execution_count": 23,
   "id": "4194a848",
   "metadata": {},
   "outputs": [],
   "source": [
    "def fruits_and_amounts(**fruit_amount):\n",
    "    print(f'Total amount of fruits: {sum(fruit_amount.values())}')\n"
   ]
  },
  {
   "cell_type": "code",
   "execution_count": 24,
   "id": "4cf72657",
   "metadata": {},
   "outputs": [
    {
     "name": "stdout",
     "output_type": "stream",
     "text": [
      "Total amount of fruits: 23\n"
     ]
    }
   ],
   "source": [
    "fruits_and_amounts(apple=3,pear=7,banana=8, melon=5)"
   ]
  },
  {
   "cell_type": "markdown",
   "id": "bffcfb03",
   "metadata": {},
   "source": [
    "## Задание 3."
   ]
  },
  {
   "cell_type": "markdown",
   "id": "a61bad95",
   "metadata": {},
   "source": [
    "Дан список с затратами на рекламу. Но в данных есть ошибки, некоторые затраты имеют отрицательную величину. Удалите такие значения из списка и посчитайте суммарные затраты\n",
    "```\n",
    "[100, 125, -90, 345, 655, -1, 0, 200]\n",
    "```\n",
    "Используйте list comprehensions"
   ]
  },
  {
   "cell_type": "code",
   "execution_count": 28,
   "id": "9250b1f5",
   "metadata": {},
   "outputs": [
    {
     "name": "stdout",
     "output_type": "stream",
     "text": [
      "Advertising costs sum: 1425\n"
     ]
    }
   ],
   "source": [
    "advert_data = [100, 125, -90, 345, 655, -1, 0, 200]\n",
    "\n",
    "correct_advert = [i if i>0 else 0 for i in advert_data]\n",
    "print (f'Advertising costs sum: {sum(correct_advert)}')\n"
   ]
  },
  {
   "cell_type": "markdown",
   "id": "b66444ff",
   "metadata": {},
   "source": [
    "## Задание 4.\n",
    "Даны два списка.\n",
    "\n",
    "Дата покупки \n",
    "```\n",
    "['2021-09-14', '2021-12-15', '2021-09-08', '2021-12-05', '2021-10-09', '2021-09-30', '2021-12-22', '2021-11-29', '2021-12-24', '2021-11-26', '2021-10-27', '2021-12-18', '2021-11-09', '2021-11-23', '2021-09-27', '2021-10-02', '2021-12-27', '2021-09-20', '2021-12-13', '2021-11-01', '2021-11-09', '2021-12-06', '2021-12-08', '2021-10-09', '2021-10-31', '2021-09-30', '2021-11-09', '2021-12-13', '2021-10-26', '2021-12-09']\n",
    "```\n",
    "Суммы покупок по датам\n",
    "```\n",
    "[1270, 8413, 9028, 3703, 5739, 4095, 295, 4944, 5723, 3701, 4471, 651, 7037, 4274, 6275, 4988, 6930, 2971, 6592, 2004, 2822, 519, 3406, 2732, 5015, 2008, 316, 6333, 5700, 2887]\n",
    "```\n"
   ]
  },
  {
   "cell_type": "markdown",
   "id": "11839dca",
   "metadata": {},
   "source": [
    "### 4.1 Найдите, какая выручка у компании в ноябре\n",
    "Используйте list comprehensions"
   ]
  },
  {
   "cell_type": "code",
   "execution_count": 67,
   "id": "fe208524",
   "metadata": {},
   "outputs": [
    {
     "name": "stdout",
     "output_type": "stream",
     "text": [
      "Сумма выручки за ноябрь: 25098\n"
     ]
    }
   ],
   "source": [
    "dates = [\n",
    "    '2021-09-14', '2021-12-15', '2021-09-08', \n",
    "    '2021-12-05', '2021-10-09', '2021-09-30', \n",
    "    '2021-12-22', '2021-11-29', '2021-12-24', \n",
    "    '2021-11-26', '2021-10-27', '2021-12-18', \n",
    "    '2021-11-09', '2021-11-23', '2021-09-27', \n",
    "    '2021-10-02', '2021-12-27', '2021-09-20', \n",
    "    '2021-12-13', '2021-11-01', '2021-11-09', \n",
    "    '2021-12-06', '2021-12-08', '2021-10-09', \n",
    "    '2021-10-31', '2021-09-30', '2021-11-09', \n",
    "    '2021-12-13', '2021-10-26', '2021-12-09'\n",
    "    ]\n",
    "\n",
    "purchases = [\n",
    "    1270, 8413, 9028, 3703, 5739, 4095, \n",
    "    295, 4944, 5723, 3701, 4471, 651, \n",
    "    7037, 4274, 6275, 4988, 6930, 2971, \n",
    "    6592, 2004, 2822, 519, 3406, 2732, \n",
    "    5015, 2008, 316, 6333, 5700, 2887\n",
    "    ]\n",
    "\n",
    "months = [item.split('-')[1] for item in dates]\n",
    "# for item in dates:\n",
    "#     months.append(item.split('-')[1])\n",
    "# print(months)\n",
    "\n",
    "sum_nov = sum(purchases[i] for i in range(len(months)) if months[i]=='11')\n",
    "print(f'Сумма выручки за ноябрь: {sum_nov}')"
   ]
  },
  {
   "cell_type": "markdown",
   "id": "f403e11e",
   "metadata": {},
   "source": [
    "### 4.2 Найдите выручку компании в зависимости от месяца\n",
    "Для этого напишите функцию, которая на вход принимает список с датами и список с выручкой, а на выходе словарь, где ключи - это месяцы, а значения - это выручка.\n",
    "Используйте аннотирование типов."
   ]
  },
  {
   "cell_type": "code",
   "execution_count": 66,
   "id": "22c95650",
   "metadata": {},
   "outputs": [
    {
     "name": "stdout",
     "output_type": "stream",
     "text": [
      "{1: 0, 2: 0, 3: 0, 4: 0, 5: 0, 6: 0, 7: 0, 8: 0, 9: 25647, 10: 28645, 11: 25098, 12: 45452}\n"
     ]
    }
   ],
   "source": [
    "def get_dict_months_purch (dates: list, purchases: list) -> dict:\n",
    "    months = [item.split('-')[1] for item in dates]\n",
    "    dict_months_purch = {}\n",
    "    for i in range (1,13):\n",
    "        sum_month = sum(purchases[j] for j in range(len(months)) if int(months[j])==i)\n",
    "        dict_months_purch [i] = sum_month\n",
    "    return dict_months_purch\n",
    "\n",
    "print(get_dict_months_purch (dates, purchases))"
   ]
  }
 ],
 "metadata": {
  "kernelspec": {
   "display_name": "Python 3.10.7 64-bit (microsoft store)",
   "language": "python",
   "name": "python3"
  },
  "language_info": {
   "codemirror_mode": {
    "name": "ipython",
    "version": 3
   },
   "file_extension": ".py",
   "mimetype": "text/x-python",
   "name": "python",
   "nbconvert_exporter": "python",
   "pygments_lexer": "ipython3",
   "version": "3.10.7"
  },
  "vscode": {
   "interpreter": {
    "hash": "5b443ebdf6357c61ce7a402e53ae50e960be908d202f096d0de9b91477d07e36"
   }
  }
 },
 "nbformat": 4,
 "nbformat_minor": 5
}
